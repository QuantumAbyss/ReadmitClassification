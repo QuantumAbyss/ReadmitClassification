{
 "cells": [
  {
   "cell_type": "markdown",
   "metadata": {},
   "source": [
    "# Hospital Readmission Classification Task\n",
    "\n",
    "Dataset: https://archive.ics.uci.edu/ml/datasets/Diabetes+130-US+hospitals+for+years+1999-2008"
   ]
  },
  {
   "cell_type": "code",
   "execution_count": 1,
   "metadata": {},
   "outputs": [],
   "source": [
    "import numpy as np\n",
    "import pandas as pd\n",
    "import seaborn as sns\n",
    "from matplotlib import pyplot\n",
    "\n",
    "from imblearn.over_sampling import SMOTE\n",
    "from sklearn.linear_model import LogisticRegression\n",
    "from sklearn.utils import resample\n",
    "from sklearn.model_selection import train_test_split, GridSearchCV\n",
    "from sklearn.ensemble import RandomForestClassifier\n",
    "from sklearn.metrics import classification_report,confusion_matrix, roc_auc_score\n",
    "\n",
    "from keras.models import Sequential\n",
    "from keras.layers import Dense\n",
    "from keras.layers import Dropout"
   ]
  },
  {
   "cell_type": "code",
   "execution_count": 2,
   "metadata": {},
   "outputs": [
    {
     "data": {
      "text/html": [
       "<div>\n",
       "<style scoped>\n",
       "    .dataframe tbody tr th:only-of-type {\n",
       "        vertical-align: middle;\n",
       "    }\n",
       "\n",
       "    .dataframe tbody tr th {\n",
       "        vertical-align: top;\n",
       "    }\n",
       "\n",
       "    .dataframe thead th {\n",
       "        text-align: right;\n",
       "    }\n",
       "</style>\n",
       "<table border=\"1\" class=\"dataframe\">\n",
       "  <thead>\n",
       "    <tr style=\"text-align: right;\">\n",
       "      <th></th>\n",
       "      <th>encounter_id</th>\n",
       "      <th>patient_nbr</th>\n",
       "      <th>race</th>\n",
       "      <th>gender</th>\n",
       "      <th>age</th>\n",
       "      <th>weight</th>\n",
       "      <th>admission_type_id</th>\n",
       "      <th>discharge_disposition_id</th>\n",
       "      <th>admission_source_id</th>\n",
       "      <th>time_in_hospital</th>\n",
       "      <th>...</th>\n",
       "      <th>citoglipton</th>\n",
       "      <th>insulin</th>\n",
       "      <th>glyburide-metformin</th>\n",
       "      <th>glipizide-metformin</th>\n",
       "      <th>glimepiride-pioglitazone</th>\n",
       "      <th>metformin-rosiglitazone</th>\n",
       "      <th>metformin-pioglitazone</th>\n",
       "      <th>change</th>\n",
       "      <th>diabetesMed</th>\n",
       "      <th>readmitted</th>\n",
       "    </tr>\n",
       "  </thead>\n",
       "  <tbody>\n",
       "    <tr>\n",
       "      <th>0</th>\n",
       "      <td>2278392</td>\n",
       "      <td>8222157</td>\n",
       "      <td>Caucasian</td>\n",
       "      <td>Female</td>\n",
       "      <td>[0-10)</td>\n",
       "      <td>?</td>\n",
       "      <td>6</td>\n",
       "      <td>25</td>\n",
       "      <td>1</td>\n",
       "      <td>1</td>\n",
       "      <td>...</td>\n",
       "      <td>No</td>\n",
       "      <td>No</td>\n",
       "      <td>No</td>\n",
       "      <td>No</td>\n",
       "      <td>No</td>\n",
       "      <td>No</td>\n",
       "      <td>No</td>\n",
       "      <td>No</td>\n",
       "      <td>No</td>\n",
       "      <td>NO</td>\n",
       "    </tr>\n",
       "    <tr>\n",
       "      <th>1</th>\n",
       "      <td>149190</td>\n",
       "      <td>55629189</td>\n",
       "      <td>Caucasian</td>\n",
       "      <td>Female</td>\n",
       "      <td>[10-20)</td>\n",
       "      <td>?</td>\n",
       "      <td>1</td>\n",
       "      <td>1</td>\n",
       "      <td>7</td>\n",
       "      <td>3</td>\n",
       "      <td>...</td>\n",
       "      <td>No</td>\n",
       "      <td>Up</td>\n",
       "      <td>No</td>\n",
       "      <td>No</td>\n",
       "      <td>No</td>\n",
       "      <td>No</td>\n",
       "      <td>No</td>\n",
       "      <td>Ch</td>\n",
       "      <td>Yes</td>\n",
       "      <td>&gt;30</td>\n",
       "    </tr>\n",
       "    <tr>\n",
       "      <th>2</th>\n",
       "      <td>64410</td>\n",
       "      <td>86047875</td>\n",
       "      <td>AfricanAmerican</td>\n",
       "      <td>Female</td>\n",
       "      <td>[20-30)</td>\n",
       "      <td>?</td>\n",
       "      <td>1</td>\n",
       "      <td>1</td>\n",
       "      <td>7</td>\n",
       "      <td>2</td>\n",
       "      <td>...</td>\n",
       "      <td>No</td>\n",
       "      <td>No</td>\n",
       "      <td>No</td>\n",
       "      <td>No</td>\n",
       "      <td>No</td>\n",
       "      <td>No</td>\n",
       "      <td>No</td>\n",
       "      <td>No</td>\n",
       "      <td>Yes</td>\n",
       "      <td>NO</td>\n",
       "    </tr>\n",
       "    <tr>\n",
       "      <th>3</th>\n",
       "      <td>500364</td>\n",
       "      <td>82442376</td>\n",
       "      <td>Caucasian</td>\n",
       "      <td>Male</td>\n",
       "      <td>[30-40)</td>\n",
       "      <td>?</td>\n",
       "      <td>1</td>\n",
       "      <td>1</td>\n",
       "      <td>7</td>\n",
       "      <td>2</td>\n",
       "      <td>...</td>\n",
       "      <td>No</td>\n",
       "      <td>Up</td>\n",
       "      <td>No</td>\n",
       "      <td>No</td>\n",
       "      <td>No</td>\n",
       "      <td>No</td>\n",
       "      <td>No</td>\n",
       "      <td>Ch</td>\n",
       "      <td>Yes</td>\n",
       "      <td>NO</td>\n",
       "    </tr>\n",
       "    <tr>\n",
       "      <th>4</th>\n",
       "      <td>16680</td>\n",
       "      <td>42519267</td>\n",
       "      <td>Caucasian</td>\n",
       "      <td>Male</td>\n",
       "      <td>[40-50)</td>\n",
       "      <td>?</td>\n",
       "      <td>1</td>\n",
       "      <td>1</td>\n",
       "      <td>7</td>\n",
       "      <td>1</td>\n",
       "      <td>...</td>\n",
       "      <td>No</td>\n",
       "      <td>Steady</td>\n",
       "      <td>No</td>\n",
       "      <td>No</td>\n",
       "      <td>No</td>\n",
       "      <td>No</td>\n",
       "      <td>No</td>\n",
       "      <td>Ch</td>\n",
       "      <td>Yes</td>\n",
       "      <td>NO</td>\n",
       "    </tr>\n",
       "  </tbody>\n",
       "</table>\n",
       "<p>5 rows × 50 columns</p>\n",
       "</div>"
      ],
      "text/plain": [
       "   encounter_id  patient_nbr             race  gender      age weight  \\\n",
       "0       2278392      8222157        Caucasian  Female   [0-10)      ?   \n",
       "1        149190     55629189        Caucasian  Female  [10-20)      ?   \n",
       "2         64410     86047875  AfricanAmerican  Female  [20-30)      ?   \n",
       "3        500364     82442376        Caucasian    Male  [30-40)      ?   \n",
       "4         16680     42519267        Caucasian    Male  [40-50)      ?   \n",
       "\n",
       "   admission_type_id  discharge_disposition_id  admission_source_id  \\\n",
       "0                  6                        25                    1   \n",
       "1                  1                         1                    7   \n",
       "2                  1                         1                    7   \n",
       "3                  1                         1                    7   \n",
       "4                  1                         1                    7   \n",
       "\n",
       "   time_in_hospital  ... citoglipton insulin  glyburide-metformin  \\\n",
       "0                 1  ...          No      No                   No   \n",
       "1                 3  ...          No      Up                   No   \n",
       "2                 2  ...          No      No                   No   \n",
       "3                 2  ...          No      Up                   No   \n",
       "4                 1  ...          No  Steady                   No   \n",
       "\n",
       "   glipizide-metformin  glimepiride-pioglitazone  metformin-rosiglitazone  \\\n",
       "0                   No                        No                       No   \n",
       "1                   No                        No                       No   \n",
       "2                   No                        No                       No   \n",
       "3                   No                        No                       No   \n",
       "4                   No                        No                       No   \n",
       "\n",
       "   metformin-pioglitazone  change diabetesMed readmitted  \n",
       "0                      No      No          No         NO  \n",
       "1                      No      Ch         Yes        >30  \n",
       "2                      No      No         Yes         NO  \n",
       "3                      No      Ch         Yes         NO  \n",
       "4                      No      Ch         Yes         NO  \n",
       "\n",
       "[5 rows x 50 columns]"
      ]
     },
     "execution_count": 2,
     "metadata": {},
     "output_type": "execute_result"
    }
   ],
   "source": [
    "dat = pd.read_csv(\"./dataset_diabetes/diabetic_data.csv\")\n",
    "dat.head()"
   ]
  },
  {
   "cell_type": "markdown",
   "metadata": {},
   "source": [
    "## Data Preprocessing\n",
    "\n",
    "#### Replacing \">30\" days readmission with \"NO\" for simplicity"
   ]
  },
  {
   "cell_type": "code",
   "execution_count": 3,
   "metadata": {},
   "outputs": [
    {
     "data": {
      "text/plain": [
       "NO     54864\n",
       ">30    35545\n",
       "<30    11357\n",
       "Name: readmitted, dtype: int64"
      ]
     },
     "execution_count": 3,
     "metadata": {},
     "output_type": "execute_result"
    }
   ],
   "source": [
    "dat['readmitted'].value_counts()"
   ]
  },
  {
   "cell_type": "code",
   "execution_count": 4,
   "metadata": {},
   "outputs": [
    {
     "data": {
      "text/plain": [
       "NO     90409\n",
       "<30    11357\n",
       "Name: readmitted, dtype: int64"
      ]
     },
     "execution_count": 4,
     "metadata": {},
     "output_type": "execute_result"
    }
   ],
   "source": [
    "dat['readmitted'].replace(to_replace =\">30\",value =\"NO\", inplace=True)\n",
    "dat['readmitted'].value_counts()"
   ]
  },
  {
   "cell_type": "markdown",
   "metadata": {},
   "source": [
    "Change type of these fields as category for model later."
   ]
  },
  {
   "cell_type": "code",
   "execution_count": 5,
   "metadata": {},
   "outputs": [
    {
     "name": "stdout",
     "output_type": "stream",
     "text": [
      "<class 'pandas.core.frame.DataFrame'>\n",
      "RangeIndex: 101766 entries, 0 to 101765\n",
      "Data columns (total 50 columns):\n",
      " #   Column                    Non-Null Count   Dtype   \n",
      "---  ------                    --------------   -----   \n",
      " 0   encounter_id              101766 non-null  int64   \n",
      " 1   patient_nbr               101766 non-null  int64   \n",
      " 2   race                      101766 non-null  object  \n",
      " 3   gender                    101766 non-null  object  \n",
      " 4   age                       101766 non-null  object  \n",
      " 5   weight                    101766 non-null  object  \n",
      " 6   admission_type_id         101766 non-null  category\n",
      " 7   discharge_disposition_id  101766 non-null  category\n",
      " 8   admission_source_id       101766 non-null  category\n",
      " 9   time_in_hospital          101766 non-null  int64   \n",
      " 10  payer_code                101766 non-null  object  \n",
      " 11  medical_specialty         101766 non-null  object  \n",
      " 12  num_lab_procedures        101766 non-null  int64   \n",
      " 13  num_procedures            101766 non-null  int64   \n",
      " 14  num_medications           101766 non-null  int64   \n",
      " 15  number_outpatient         101766 non-null  int64   \n",
      " 16  number_emergency          101766 non-null  int64   \n",
      " 17  number_inpatient          101766 non-null  int64   \n",
      " 18  diag_1                    101766 non-null  object  \n",
      " 19  diag_2                    101766 non-null  object  \n",
      " 20  diag_3                    101766 non-null  object  \n",
      " 21  number_diagnoses          101766 non-null  int64   \n",
      " 22  max_glu_serum             101766 non-null  object  \n",
      " 23  A1Cresult                 101766 non-null  object  \n",
      " 24  metformin                 101766 non-null  object  \n",
      " 25  repaglinide               101766 non-null  object  \n",
      " 26  nateglinide               101766 non-null  object  \n",
      " 27  chlorpropamide            101766 non-null  object  \n",
      " 28  glimepiride               101766 non-null  object  \n",
      " 29  acetohexamide             101766 non-null  object  \n",
      " 30  glipizide                 101766 non-null  object  \n",
      " 31  glyburide                 101766 non-null  object  \n",
      " 32  tolbutamide               101766 non-null  object  \n",
      " 33  pioglitazone              101766 non-null  object  \n",
      " 34  rosiglitazone             101766 non-null  object  \n",
      " 35  acarbose                  101766 non-null  object  \n",
      " 36  miglitol                  101766 non-null  object  \n",
      " 37  troglitazone              101766 non-null  object  \n",
      " 38  tolazamide                101766 non-null  object  \n",
      " 39  examide                   101766 non-null  object  \n",
      " 40  citoglipton               101766 non-null  object  \n",
      " 41  insulin                   101766 non-null  object  \n",
      " 42  glyburide-metformin       101766 non-null  object  \n",
      " 43  glipizide-metformin       101766 non-null  object  \n",
      " 44  glimepiride-pioglitazone  101766 non-null  object  \n",
      " 45  metformin-rosiglitazone   101766 non-null  object  \n",
      " 46  metformin-pioglitazone    101766 non-null  object  \n",
      " 47  change                    101766 non-null  object  \n",
      " 48  diabetesMed               101766 non-null  object  \n",
      " 49  readmitted                101766 non-null  object  \n",
      "dtypes: category(3), int64(10), object(37)\n",
      "memory usage: 36.8+ MB\n"
     ]
    }
   ],
   "source": [
    "dat['admission_type_id']=dat['admission_type_id'].astype('category')\n",
    "dat['discharge_disposition_id']=dat['discharge_disposition_id'].astype('category')\n",
    "dat['admission_source_id']=dat['admission_source_id'].astype('category')\n",
    "dat.info()"
   ]
  },
  {
   "cell_type": "markdown",
   "metadata": {},
   "source": [
    "#### Handling categorical variables with a large number of categories\n",
    "Filtering them down to only count the top most frequent, since many categories don't occur very often."
   ]
  },
  {
   "cell_type": "code",
   "execution_count": 6,
   "metadata": {},
   "outputs": [],
   "source": [
    "def inArray(arr, test):\n",
    "    \n",
    "    toReturn=np.array([], dtype=bool)\n",
    "    \n",
    "    for elem in arr:\n",
    "        if elem in test:\n",
    "            toReturn = np.append(toReturn, True)\n",
    "        else:\n",
    "            toReturn = np.append(toReturn, False)\n",
    "    \n",
    "    return pd.Series(toReturn)"
   ]
  },
  {
   "cell_type": "code",
   "execution_count": 7,
   "metadata": {},
   "outputs": [],
   "source": [
    "topCat = dat['medical_specialty'].value_counts().head(10).index.to_numpy()\n",
    "dat.loc[~inArray(dat['medical_specialty'], topCat), 'medical_specialty'] = \"Other\"\n",
    "dat['medical_specialty'].replace(to_replace=\"?\", value=\"Other\", inplace=True)\n",
    "\n",
    "topCat = dat['diag_1'].value_counts().head(5).index.to_numpy()\n",
    "dat.loc[~inArray(dat['diag_1'], topCat), 'diag_1'] = \"Other\"\n",
    "dat['diag_1'].replace(to_replace=\"?\", value=\"Other\", inplace=True)\n",
    "\n",
    "topCat = dat['diag_2'].value_counts().head(5).index.to_numpy()\n",
    "dat.loc[~inArray(dat['diag_2'], topCat), 'diag_2'] = \"Other\"\n",
    "dat['diag_2'].replace(to_replace=\"?\", value=\"Other\", inplace=True)\n",
    "\n",
    "topCat = dat['diag_3'].value_counts().head(5).index.to_numpy()\n",
    "dat.loc[~inArray(dat['diag_3'], topCat), 'diag_3'] = \"Other\"\n",
    "dat['diag_3'].replace(to_replace=\"?\", value=\"Other\", inplace=True)"
   ]
  },
  {
   "cell_type": "code",
   "execution_count": 8,
   "metadata": {},
   "outputs": [],
   "source": [
    "datClean = dat.drop(['encounter_id', 'patient_nbr'], axis=1)"
   ]
  },
  {
   "cell_type": "markdown",
   "metadata": {},
   "source": [
    "#### One-Hot Encoding Data"
   ]
  },
  {
   "cell_type": "code",
   "execution_count": 9,
   "metadata": {},
   "outputs": [],
   "source": [
    "datClean = pd.get_dummies(datClean,drop_first=True)"
   ]
  },
  {
   "cell_type": "markdown",
   "metadata": {},
   "source": [
    "Optional code below. Was playing around to see if any feature selection combinations impacted results."
   ]
  },
  {
   "cell_type": "code",
   "execution_count": 10,
   "metadata": {},
   "outputs": [],
   "source": [
    "# datClean = datClean[['time_in_hospital', 'num_lab_procedures', 'num_procedures',\n",
    "#        'num_medications', 'number_outpatient', 'number_emergency',\n",
    "#        'number_inpatient', 'number_diagnoses', 'race_AfricanAmerican',\n",
    "#        'race_Caucasian', 'gender_Male', 'age_[60-70)', 'age_[70-80)',\n",
    "#        'age_[80-90)', 'admission_type_id_2', 'admission_type_id_3',\n",
    "#        'discharge_disposition_id_3', 'discharge_disposition_id_6',\n",
    "#        'admission_source_id_7', 'payer_code_MC',\n",
    "#        'medical_specialty_InternalMedicine', 'medical_specialty_Other',\n",
    "#        'diag_1_Other', 'diag_2_Other', 'diag_3_Other', 'insulin_Steady',\n",
    "#        'change_No', 'readmitted_NO']]"
   ]
  },
  {
   "cell_type": "code",
   "execution_count": 11,
   "metadata": {},
   "outputs": [
    {
     "data": {
      "text/html": [
       "<div>\n",
       "<style scoped>\n",
       "    .dataframe tbody tr th:only-of-type {\n",
       "        vertical-align: middle;\n",
       "    }\n",
       "\n",
       "    .dataframe tbody tr th {\n",
       "        vertical-align: top;\n",
       "    }\n",
       "\n",
       "    .dataframe thead th {\n",
       "        text-align: right;\n",
       "    }\n",
       "</style>\n",
       "<table border=\"1\" class=\"dataframe\">\n",
       "  <thead>\n",
       "    <tr style=\"text-align: right;\">\n",
       "      <th></th>\n",
       "      <th>time_in_hospital</th>\n",
       "      <th>num_lab_procedures</th>\n",
       "      <th>num_procedures</th>\n",
       "      <th>num_medications</th>\n",
       "      <th>number_outpatient</th>\n",
       "      <th>number_emergency</th>\n",
       "      <th>number_inpatient</th>\n",
       "      <th>number_diagnoses</th>\n",
       "      <th>race_AfricanAmerican</th>\n",
       "      <th>race_Asian</th>\n",
       "      <th>...</th>\n",
       "      <th>glyburide-metformin_No</th>\n",
       "      <th>glyburide-metformin_Steady</th>\n",
       "      <th>glyburide-metformin_Up</th>\n",
       "      <th>glipizide-metformin_Steady</th>\n",
       "      <th>glimepiride-pioglitazone_Steady</th>\n",
       "      <th>metformin-rosiglitazone_Steady</th>\n",
       "      <th>metformin-pioglitazone_Steady</th>\n",
       "      <th>change_No</th>\n",
       "      <th>diabetesMed_Yes</th>\n",
       "      <th>readmitted_NO</th>\n",
       "    </tr>\n",
       "  </thead>\n",
       "  <tbody>\n",
       "    <tr>\n",
       "      <th>0</th>\n",
       "      <td>1</td>\n",
       "      <td>41</td>\n",
       "      <td>0</td>\n",
       "      <td>1</td>\n",
       "      <td>0</td>\n",
       "      <td>0</td>\n",
       "      <td>0</td>\n",
       "      <td>1</td>\n",
       "      <td>0</td>\n",
       "      <td>0</td>\n",
       "      <td>...</td>\n",
       "      <td>1</td>\n",
       "      <td>0</td>\n",
       "      <td>0</td>\n",
       "      <td>0</td>\n",
       "      <td>0</td>\n",
       "      <td>0</td>\n",
       "      <td>0</td>\n",
       "      <td>1</td>\n",
       "      <td>0</td>\n",
       "      <td>1</td>\n",
       "    </tr>\n",
       "    <tr>\n",
       "      <th>1</th>\n",
       "      <td>3</td>\n",
       "      <td>59</td>\n",
       "      <td>0</td>\n",
       "      <td>18</td>\n",
       "      <td>0</td>\n",
       "      <td>0</td>\n",
       "      <td>0</td>\n",
       "      <td>9</td>\n",
       "      <td>0</td>\n",
       "      <td>0</td>\n",
       "      <td>...</td>\n",
       "      <td>1</td>\n",
       "      <td>0</td>\n",
       "      <td>0</td>\n",
       "      <td>0</td>\n",
       "      <td>0</td>\n",
       "      <td>0</td>\n",
       "      <td>0</td>\n",
       "      <td>0</td>\n",
       "      <td>1</td>\n",
       "      <td>1</td>\n",
       "    </tr>\n",
       "    <tr>\n",
       "      <th>2</th>\n",
       "      <td>2</td>\n",
       "      <td>11</td>\n",
       "      <td>5</td>\n",
       "      <td>13</td>\n",
       "      <td>2</td>\n",
       "      <td>0</td>\n",
       "      <td>1</td>\n",
       "      <td>6</td>\n",
       "      <td>1</td>\n",
       "      <td>0</td>\n",
       "      <td>...</td>\n",
       "      <td>1</td>\n",
       "      <td>0</td>\n",
       "      <td>0</td>\n",
       "      <td>0</td>\n",
       "      <td>0</td>\n",
       "      <td>0</td>\n",
       "      <td>0</td>\n",
       "      <td>1</td>\n",
       "      <td>1</td>\n",
       "      <td>1</td>\n",
       "    </tr>\n",
       "    <tr>\n",
       "      <th>3</th>\n",
       "      <td>2</td>\n",
       "      <td>44</td>\n",
       "      <td>1</td>\n",
       "      <td>16</td>\n",
       "      <td>0</td>\n",
       "      <td>0</td>\n",
       "      <td>0</td>\n",
       "      <td>7</td>\n",
       "      <td>0</td>\n",
       "      <td>0</td>\n",
       "      <td>...</td>\n",
       "      <td>1</td>\n",
       "      <td>0</td>\n",
       "      <td>0</td>\n",
       "      <td>0</td>\n",
       "      <td>0</td>\n",
       "      <td>0</td>\n",
       "      <td>0</td>\n",
       "      <td>0</td>\n",
       "      <td>1</td>\n",
       "      <td>1</td>\n",
       "    </tr>\n",
       "    <tr>\n",
       "      <th>4</th>\n",
       "      <td>1</td>\n",
       "      <td>51</td>\n",
       "      <td>0</td>\n",
       "      <td>8</td>\n",
       "      <td>0</td>\n",
       "      <td>0</td>\n",
       "      <td>0</td>\n",
       "      <td>5</td>\n",
       "      <td>0</td>\n",
       "      <td>0</td>\n",
       "      <td>...</td>\n",
       "      <td>1</td>\n",
       "      <td>0</td>\n",
       "      <td>0</td>\n",
       "      <td>0</td>\n",
       "      <td>0</td>\n",
       "      <td>0</td>\n",
       "      <td>0</td>\n",
       "      <td>0</td>\n",
       "      <td>1</td>\n",
       "      <td>1</td>\n",
       "    </tr>\n",
       "  </tbody>\n",
       "</table>\n",
       "<p>5 rows × 179 columns</p>\n",
       "</div>"
      ],
      "text/plain": [
       "   time_in_hospital  num_lab_procedures  num_procedures  num_medications  \\\n",
       "0                 1                  41               0                1   \n",
       "1                 3                  59               0               18   \n",
       "2                 2                  11               5               13   \n",
       "3                 2                  44               1               16   \n",
       "4                 1                  51               0                8   \n",
       "\n",
       "   number_outpatient  number_emergency  number_inpatient  number_diagnoses  \\\n",
       "0                  0                 0                 0                 1   \n",
       "1                  0                 0                 0                 9   \n",
       "2                  2                 0                 1                 6   \n",
       "3                  0                 0                 0                 7   \n",
       "4                  0                 0                 0                 5   \n",
       "\n",
       "   race_AfricanAmerican  race_Asian  ...  glyburide-metformin_No  \\\n",
       "0                     0           0  ...                       1   \n",
       "1                     0           0  ...                       1   \n",
       "2                     1           0  ...                       1   \n",
       "3                     0           0  ...                       1   \n",
       "4                     0           0  ...                       1   \n",
       "\n",
       "   glyburide-metformin_Steady  glyburide-metformin_Up  \\\n",
       "0                           0                       0   \n",
       "1                           0                       0   \n",
       "2                           0                       0   \n",
       "3                           0                       0   \n",
       "4                           0                       0   \n",
       "\n",
       "   glipizide-metformin_Steady  glimepiride-pioglitazone_Steady  \\\n",
       "0                           0                                0   \n",
       "1                           0                                0   \n",
       "2                           0                                0   \n",
       "3                           0                                0   \n",
       "4                           0                                0   \n",
       "\n",
       "   metformin-rosiglitazone_Steady  metformin-pioglitazone_Steady  change_No  \\\n",
       "0                               0                              0          1   \n",
       "1                               0                              0          0   \n",
       "2                               0                              0          1   \n",
       "3                               0                              0          0   \n",
       "4                               0                              0          0   \n",
       "\n",
       "   diabetesMed_Yes  readmitted_NO  \n",
       "0                0              1  \n",
       "1                1              1  \n",
       "2                1              1  \n",
       "3                1              1  \n",
       "4                1              1  \n",
       "\n",
       "[5 rows x 179 columns]"
      ]
     },
     "execution_count": 11,
     "metadata": {},
     "output_type": "execute_result"
    }
   ],
   "source": [
    "datClean.head()"
   ]
  },
  {
   "cell_type": "markdown",
   "metadata": {},
   "source": [
    "#### Custom functions for oversampling, undersampling, and SMOTE for imbalanced data handling"
   ]
  },
  {
   "cell_type": "code",
   "execution_count": 12,
   "metadata": {},
   "outputs": [],
   "source": [
    "def oversample(x, y):\n",
    "    \n",
    "    comb = pd.concat([x, y], axis=1)\n",
    "    \n",
    "    readmit = comb[comb['readmitted_NO']==0]\n",
    "    notReadmit = comb[comb['readmitted_NO']==1]\n",
    "    \n",
    "    upsample = resample(readmit,\n",
    "                       replace = True,\n",
    "                       n_samples = len(notReadmit),\n",
    "                       random_state = 53)\n",
    "    \n",
    "    upsample = pd.concat([notReadmit, upsample])\n",
    "    X = upsample.drop('readmitted_NO',axis=1)\n",
    "    Y = upsample['readmitted_NO']\n",
    "    return(X,Y)\n",
    "\n",
    "def downsample(x, y):\n",
    "    \n",
    "    comb = pd.concat([x, y], axis=1)\n",
    "    \n",
    "    readmit = comb[comb['readmitted_NO']==0]\n",
    "    notReadmit = comb[comb['readmitted_NO']==1]\n",
    "    \n",
    "    downsample = resample(notReadmit,\n",
    "                       replace = False,\n",
    "                       n_samples = len(readmit),\n",
    "                       random_state = 53)\n",
    "    \n",
    "    downsample = pd.concat([downsample, readmit])\n",
    "    X = downsample.drop('readmitted_NO',axis=1)\n",
    "    Y = downsample['readmitted_NO']\n",
    "    return(X,Y)\n",
    "\n",
    "def customSMOTE(x, y):\n",
    "    \n",
    "    sm = SMOTE(random_state = 53)\n",
    "    X, Y = sm.fit_resample(x, y)\n",
    "    return(X, Y)\n"
   ]
  },
  {
   "cell_type": "markdown",
   "metadata": {},
   "source": [
    "#### Separate into training and validation sets"
   ]
  },
  {
   "cell_type": "code",
   "execution_count": 13,
   "metadata": {},
   "outputs": [],
   "source": [
    "X = datClean.drop('readmitted_NO',axis=1)\n",
    "Y = datClean['readmitted_NO']\n",
    "Xtrain, Xvalid, Ytrain, Yvalid = train_test_split(X, Y, test_size=0.30, random_state=53)"
   ]
  },
  {
   "cell_type": "code",
   "execution_count": 14,
   "metadata": {},
   "outputs": [
    {
     "data": {
      "text/plain": [
       "1    63329\n",
       "0     7907\n",
       "Name: readmitted_NO, dtype: int64"
      ]
     },
     "execution_count": 14,
     "metadata": {},
     "output_type": "execute_result"
    }
   ],
   "source": [
    "Ytrain.value_counts()"
   ]
  },
  {
   "cell_type": "markdown",
   "metadata": {},
   "source": [
    "Accuracy from guessing not re_admitted:"
   ]
  },
  {
   "cell_type": "code",
   "execution_count": 15,
   "metadata": {},
   "outputs": [
    {
     "data": {
      "text/plain": [
       "0.8890027514178225"
      ]
     },
     "execution_count": 15,
     "metadata": {},
     "output_type": "execute_result"
    }
   ],
   "source": [
    "63329 / (63329+7907)"
   ]
  },
  {
   "cell_type": "markdown",
   "metadata": {},
   "source": [
    "### RandomForest"
   ]
  },
  {
   "cell_type": "markdown",
   "metadata": {},
   "source": [
    "#### RandomForest with Oversampling "
   ]
  },
  {
   "cell_type": "code",
   "execution_count": 16,
   "metadata": {},
   "outputs": [
    {
     "name": "stdout",
     "output_type": "stream",
     "text": [
      "              precision    recall  f1-score   support\n",
      "\n",
      "           0       0.51      0.02      0.04      3450\n",
      "           1       0.89      1.00      0.94     27080\n",
      "\n",
      "    accuracy                           0.89     30530\n",
      "   macro avg       0.70      0.51      0.49     30530\n",
      "weighted avg       0.85      0.89      0.84     30530\n",
      "\n",
      "[[   79  3371]\n",
      " [   76 27004]]\n",
      "0.6593247704065249\n"
     ]
    }
   ],
   "source": [
    "XtrainOver, YtrainOver = oversample(Xtrain, Ytrain)\n",
    "\n",
    "rfover = RandomForestClassifier(n_estimators=600)\n",
    "rfover.fit(XtrainOver,YtrainOver)\n",
    "\n",
    "predictions = rfover.predict(Xvalid)\n",
    "print(classification_report(Yvalid,predictions))\n",
    "print(confusion_matrix(Yvalid, predictions))\n",
    "print(roc_auc_score(Yvalid, rfover.predict_proba(Xvalid)[:,1]))"
   ]
  },
  {
   "cell_type": "markdown",
   "metadata": {},
   "source": [
    "#### RandomForest with Undersampling"
   ]
  },
  {
   "cell_type": "code",
   "execution_count": 17,
   "metadata": {},
   "outputs": [
    {
     "name": "stdout",
     "output_type": "stream",
     "text": [
      "              precision    recall  f1-score   support\n",
      "\n",
      "           0       0.17      0.62      0.27      3450\n",
      "           1       0.93      0.62      0.74     27080\n",
      "\n",
      "    accuracy                           0.62     30530\n",
      "   macro avg       0.55      0.62      0.51     30530\n",
      "weighted avg       0.84      0.62      0.69     30530\n",
      "\n",
      "[[ 2123  1327]\n",
      " [10259 16821]]\n",
      "0.6644839980305268\n"
     ]
    }
   ],
   "source": [
    "XtrainUnder, YtrainUnder = downsample(Xtrain, Ytrain)\n",
    "\n",
    "rfunder = RandomForestClassifier(n_estimators=600)\n",
    "rfunder.fit(XtrainUnder,YtrainUnder)\n",
    "\n",
    "predictions = rfunder.predict(Xvalid)\n",
    "print(classification_report(Yvalid,predictions))\n",
    "print(confusion_matrix(Yvalid, predictions))\n",
    "print(roc_auc_score(Yvalid, rfunder.predict_proba(Xvalid)[:,1]))"
   ]
  },
  {
   "cell_type": "markdown",
   "metadata": {},
   "source": [
    "#### RandomForest with SMOTE"
   ]
  },
  {
   "cell_type": "code",
   "execution_count": 18,
   "metadata": {},
   "outputs": [
    {
     "name": "stdout",
     "output_type": "stream",
     "text": [
      "              precision    recall  f1-score   support\n",
      "\n",
      "           0       0.29      0.02      0.03      3450\n",
      "           1       0.89      0.99      0.94     27080\n",
      "\n",
      "    accuracy                           0.88     30530\n",
      "   macro avg       0.59      0.51      0.48     30530\n",
      "weighted avg       0.82      0.88      0.84     30530\n",
      "\n",
      "[[   55  3395]\n",
      " [  137 26943]]\n",
      "0.600203449789138\n"
     ]
    }
   ],
   "source": [
    "XtrainSM, YtrainSM = customSMOTE(Xtrain, Ytrain)\n",
    "\n",
    "rfSM = RandomForestClassifier(n_estimators=600)\n",
    "rfSM.fit(XtrainSM,YtrainSM)\n",
    "\n",
    "predictions = rfSM.predict(Xvalid)\n",
    "print(classification_report(Yvalid,predictions))\n",
    "print(confusion_matrix(Yvalid, predictions))\n",
    "print(roc_auc_score(Yvalid, rfSM.predict_proba(Xvalid)[:,1]))"
   ]
  },
  {
   "cell_type": "code",
   "execution_count": 19,
   "metadata": {
    "scrolled": true
   },
   "outputs": [
    {
     "name": "stdout",
     "output_type": "stream",
     "text": [
      "              precision    recall  f1-score   support\n",
      "\n",
      "           0       0.60      0.01      0.02      3450\n",
      "           1       0.89      1.00      0.94     27080\n",
      "\n",
      "    accuracy                           0.89     30530\n",
      "   macro avg       0.75      0.50      0.48     30530\n",
      "weighted avg       0.86      0.89      0.84     30530\n",
      "\n",
      "[[   29  3421]\n",
      " [   19 27061]]\n",
      "0.6545955033930597\n"
     ]
    }
   ],
   "source": [
    "rf = RandomForestClassifier(n_estimators=600)\n",
    "rf.fit(Xtrain,Ytrain)\n",
    "\n",
    "predictions = rf.predict(Xvalid)\n",
    "print(classification_report(Yvalid,predictions))\n",
    "print(confusion_matrix(Yvalid, predictions))\n",
    "print(roc_auc_score(Yvalid, rf.predict_proba(Xvalid)[:,1]))"
   ]
  },
  {
   "cell_type": "code",
   "execution_count": 20,
   "metadata": {},
   "outputs": [
    {
     "data": {
      "image/png": "[encoded data removed]",
      "text/plain": [
       "<Figure size 432x288 with 1 Axes>"
      ]
     },
     "metadata": {
      "needs_background": "light"
     },
     "output_type": "display_data"
    }
   ],
   "source": [
    "importance = rf.feature_importances_\n",
    "# summarize feature importance\n",
    "# for i,v in enumerate(importance):\n",
    "# \tprint('Feature: %0d, Score: %.5f' % (i,v))\n",
    "# plot feature importance\n",
    "pyplot.bar([x for x in range(len(importance))], importance)\n",
    "pyplot.show()"
   ]
  },
  {
   "cell_type": "code",
   "execution_count": 21,
   "metadata": {},
   "outputs": [
    {
     "data": {
      "text/plain": [
       "Index(['time_in_hospital', 'num_lab_procedures', 'num_procedures',\n",
       "       'num_medications', 'number_outpatient', 'number_emergency',\n",
       "       'number_inpatient', 'number_diagnoses', 'race_AfricanAmerican',\n",
       "       'race_Caucasian', 'gender_Male', 'age_[60-70)', 'age_[70-80)',\n",
       "       'age_[80-90)', 'admission_type_id_2', 'admission_type_id_3',\n",
       "       'discharge_disposition_id_6', 'admission_source_id_7', 'payer_code_MC',\n",
       "       'medical_specialty_InternalMedicine', 'medical_specialty_Other',\n",
       "       'diag_1_Other', 'diag_2_Other', 'diag_3_Other', 'insulin_No',\n",
       "       'insulin_Steady', 'change_No'],\n",
       "      dtype='object')"
      ]
     },
     "execution_count": 21,
     "metadata": {},
     "output_type": "execute_result"
    }
   ],
   "source": [
    "Xtrain.columns[importance > .01]"
   ]
  },
  {
   "cell_type": "code",
   "execution_count": 22,
   "metadata": {},
   "outputs": [
    {
     "data": {
      "text/plain": [
       "178"
      ]
     },
     "execution_count": 22,
     "metadata": {},
     "output_type": "execute_result"
    }
   ],
   "source": [
    "XtrainOver.shape[1]"
   ]
  },
  {
   "cell_type": "code",
   "execution_count": 23,
   "metadata": {},
   "outputs": [
    {
     "name": "stdout",
     "output_type": "stream",
     "text": [
      "Fitting 2 folds for each of 15 candidates, totalling 30 fits\n",
      "0.9511646329667732\n",
      "{'max_depth': 20, 'max_features': 25}\n"
     ]
    }
   ],
   "source": [
    "rf = RandomForestClassifier(n_estimators=600)#, class_weight = \"balanced\"\n",
    "\n",
    "rfparams = {\"max_features\": range(5, 30, 5),\n",
    "            \"max_depth\": [10, 15, 20]}\n",
    "\n",
    "rfCV = GridSearchCV(rf, rfparams, n_jobs=-1, cv=2, scoring = 'roc_auc', verbose=2).fit(XtrainOver, YtrainOver)\n",
    "print(rfCV.best_score_)\n",
    "print(rfCV.best_params_)"
   ]
  },
  {
   "cell_type": "code",
   "execution_count": 24,
   "metadata": {},
   "outputs": [
    {
     "name": "stdout",
     "output_type": "stream",
     "text": [
      "              precision    recall  f1-score   support\n",
      "\n",
      "           0       0.22      0.29      0.25      3450\n",
      "           1       0.91      0.87      0.89     27080\n",
      "\n",
      "    accuracy                           0.81     30530\n",
      "   macro avg       0.57      0.58      0.57     30530\n",
      "weighted avg       0.83      0.81      0.82     30530\n",
      "\n",
      "[[  985  2465]\n",
      " [ 3404 23676]]\n",
      "0.6552397726542932\n"
     ]
    }
   ],
   "source": [
    "#rf = RandomForestClassifier(max_features='sqrt', max_depth=20)\n",
    "#rf.fit(XtrainOver,YtrainOver)\n",
    "\n",
    "rf = rfCV.best_estimator_\n",
    "#predicted_prob = rf_model.predict_proba(Xvalid)[:, 1]\n",
    "#predicted = rf_model.predict(x_test_rf)\n",
    "#AUC_RF = roc_auc_score(y_test_rf, predicted_prob)\n",
    "\n",
    "predictions = rf.predict(Xvalid)\n",
    "print(classification_report(Yvalid,predictions))\n",
    "print(confusion_matrix(Yvalid, predictions))\n",
    "print(roc_auc_score(Yvalid, rf.predict_proba(Xvalid)[:,1]))"
   ]
  },
  {
   "cell_type": "markdown",
   "metadata": {},
   "source": [
    "### Logistic Regression"
   ]
  },
  {
   "cell_type": "markdown",
   "metadata": {},
   "source": [
    "Cell below commented out. Feature selection model."
   ]
  },
  {
   "cell_type": "code",
   "execution_count": 25,
   "metadata": {},
   "outputs": [],
   "source": [
    "# from sklearn.feature_selection import RFE\n",
    "# from sklearn.linear_model import LogisticRegression\n",
    "\n",
    "# logreg = LogisticRegression(max_iter=5000)\n",
    "# rfe = RFE(logreg, 20)\n",
    "# rfe = rfe.fit(XtrainOver, YtrainOver.values.ravel())\n",
    "# print(rfe.support_)\n",
    "# print(rfe.ranking_)\n",
    "\n",
    "# XtrainOver = XtrainOver[XtrainOver.columns[rfe.support_]]\n",
    "# XtrainOver.info()\n",
    "\n",
    "# import statsmodels.api as sm\n",
    "# logit_model=sm.Logit(YtrainOver, XtrainOver)\n",
    "# result=logit_model.fit()\n",
    "# print(result.summary2())"
   ]
  },
  {
   "cell_type": "code",
   "execution_count": 26,
   "metadata": {},
   "outputs": [
    {
     "name": "stderr",
     "output_type": "stream",
     "text": [
      "/home/quantumabyss/anaconda3/lib/python3.8/site-packages/sklearn/linear_model/_logistic.py:763: ConvergenceWarning: lbfgs failed to converge (status=1):\n",
      "STOP: TOTAL NO. of ITERATIONS REACHED LIMIT.\n",
      "\n",
      "Increase the number of iterations (max_iter) or scale the data as shown in:\n",
      "    https://scikit-learn.org/stable/modules/preprocessing.html\n",
      "Please also refer to the documentation for alternative solver options:\n",
      "    https://scikit-learn.org/stable/modules/linear_model.html#logistic-regression\n",
      "  n_iter_i = _check_optimize_result(\n"
     ]
    },
    {
     "data": {
      "text/plain": [
       "LogisticRegression(max_iter=1000)"
      ]
     },
     "execution_count": 26,
     "metadata": {},
     "output_type": "execute_result"
    }
   ],
   "source": [
    "XtrainOver, YtrainOver = oversample(Xtrain, Ytrain)\n",
    "\n",
    "logreg = LogisticRegression(max_iter=1000)\n",
    "logreg.fit(XtrainOver, YtrainOver)"
   ]
  },
  {
   "cell_type": "code",
   "execution_count": 27,
   "metadata": {},
   "outputs": [
    {
     "name": "stdout",
     "output_type": "stream",
     "text": [
      "              precision    recall  f1-score   support\n",
      "\n",
      "           0       0.18      0.57      0.27      3450\n",
      "           1       0.92      0.67      0.78     27080\n",
      "\n",
      "    accuracy                           0.66     30530\n",
      "   macro avg       0.55      0.62      0.53     30530\n",
      "weighted avg       0.84      0.66      0.72     30530\n",
      "\n",
      "[[ 1956  1494]\n",
      " [ 8889 18191]]\n",
      "0.6193534455076745\n"
     ]
    }
   ],
   "source": [
    "pred = logreg.predict(Xvalid)\n",
    "print(classification_report(Yvalid, pred))\n",
    "print(confusion_matrix(Yvalid, pred))\n",
    "print(roc_auc_score(Yvalid, pred))"
   ]
  },
  {
   "cell_type": "markdown",
   "metadata": {},
   "source": [
    "### Neural Network\n",
    "\n",
    "Scaling not necessary apparently. Cell below is commented out."
   ]
  },
  {
   "cell_type": "code",
   "execution_count": 28,
   "metadata": {},
   "outputs": [],
   "source": [
    "# from sklearn.preprocessing import StandardScaler\n",
    "\n",
    "# X = datClean.drop('readmitted_NO',axis=1)\n",
    "# Y = datClean['readmitted_NO']\n",
    "\n",
    "# scaler = StandardScaler()\n",
    "# standardized = scaler.fit_transform(X)\n",
    "# # inverse transform\n",
    "# inverse = scaler.inverse_transform(standardized)\n",
    "# standardized.shape"
   ]
  },
  {
   "cell_type": "code",
   "execution_count": 29,
   "metadata": {},
   "outputs": [],
   "source": [
    "Xtrain, Xvalid, Ytrain, Yvalid = train_test_split(X, Y, test_size=0.30, random_state=53)"
   ]
  },
  {
   "cell_type": "code",
   "execution_count": 30,
   "metadata": {},
   "outputs": [],
   "source": [
    "model = Sequential()\n",
    "model.add(Dense(256, input_dim=178, activation='relu'))\n",
    "model.add(Dropout(0.2))\n",
    "model.add(Dense(128, activation='relu'))\n",
    "model.add(Dropout(0.2))\n",
    "model.add(Dense(32, activation='relu'))\n",
    "model.add(Dense(8, activation='relu'))\n",
    "model.add(Dense(1, activation='sigmoid'))"
   ]
  },
  {
   "cell_type": "code",
   "execution_count": 31,
   "metadata": {},
   "outputs": [
    {
     "name": "stdout",
     "output_type": "stream",
     "text": [
      "Epoch 1/10\n",
      "7124/7124 [==============================] - 11s 631us/step - loss: 0.3601 - accuracy: 0.8872\n",
      "Epoch 2/10\n",
      "7124/7124 [==============================] - 4s 626us/step - loss: 0.3351 - accuracy: 0.8897\n",
      "Epoch 3/10\n",
      "7124/7124 [==============================] - 4s 627us/step - loss: 0.3364 - accuracy: 0.8875\n",
      "Epoch 4/10\n",
      "7124/7124 [==============================] - 4s 628us/step - loss: 0.3271 - accuracy: 0.8907\n",
      "Epoch 5/10\n",
      "7124/7124 [==============================] - 4s 626us/step - loss: 0.3322 - accuracy: 0.8893\n",
      "Epoch 6/10\n",
      "7124/7124 [==============================] - 4s 627us/step - loss: 0.3328 - accuracy: 0.8882\n",
      "Epoch 7/10\n",
      "7124/7124 [==============================] - 4s 627us/step - loss: 0.3310 - accuracy: 0.8892\n",
      "Epoch 8/10\n",
      "7124/7124 [==============================] - 4s 626us/step - loss: 0.3328 - accuracy: 0.8879\n",
      "Epoch 9/10\n",
      "7124/7124 [==============================] - 4s 626us/step - loss: 0.3308 - accuracy: 0.8884\n",
      "Epoch 10/10\n",
      "7124/7124 [==============================] - 4s 626us/step - loss: 0.3299 - accuracy: 0.8887\n"
     ]
    },
    {
     "data": {
      "text/plain": [
       "<keras.callbacks.History at 0x7f54b278f9a0>"
      ]
     },
     "execution_count": 31,
     "metadata": {},
     "output_type": "execute_result"
    }
   ],
   "source": [
    "model.compile(loss='binary_crossentropy', optimizer='adam', metrics=['accuracy'])\n",
    "model.fit(Xtrain, Ytrain, epochs=10, batch_size=10)"
   ]
  },
  {
   "cell_type": "code",
   "execution_count": 32,
   "metadata": {},
   "outputs": [
    {
     "name": "stdout",
     "output_type": "stream",
     "text": [
      "955/955 [==============================] - 1s 392us/step - loss: 0.3373 - accuracy: 0.8871\n",
      "Accuracy: 88.71\n"
     ]
    }
   ],
   "source": [
    "# evaluate the keras model\n",
    "_, accuracy = model.evaluate(Xvalid, Yvalid)\n",
    "print('Accuracy: %.2f' % (accuracy*100))"
   ]
  },
  {
   "cell_type": "code",
   "execution_count": 33,
   "metadata": {},
   "outputs": [
    {
     "name": "stderr",
     "output_type": "stream",
     "text": [
      "/home/quantumabyss/anaconda3/lib/python3.8/site-packages/keras/engine/sequential.py:450: UserWarning: `model.predict_classes()` is deprecated and will be removed after 2021-01-01. Please use instead:* `np.argmax(model.predict(x), axis=-1)`,   if your model does multi-class classification   (e.g. if it uses a `softmax` last-layer activation).* `(model.predict(x) > 0.5).astype(\"int32\")`,   if your model does binary classification   (e.g. if it uses a `sigmoid` last-layer activation).\n",
      "  warnings.warn('`model.predict_classes()` is deprecated and '\n"
     ]
    },
    {
     "name": "stdout",
     "output_type": "stream",
     "text": [
      "              precision    recall  f1-score   support\n",
      "\n",
      "           0       0.52      0.02      0.03      3450\n",
      "           1       0.89      1.00      0.94     27080\n",
      "\n",
      "    accuracy                           0.89     30530\n",
      "   macro avg       0.70      0.51      0.49     30530\n",
      "weighted avg       0.85      0.89      0.84     30530\n",
      "\n",
      "[[   57  3393]\n",
      " [   53 27027]]\n",
      "0.6733835709545523\n"
     ]
    }
   ],
   "source": [
    "predictions = model.predict_classes(Xvalid)\n",
    "#predictions = rfover.predict(Xvalid)\n",
    "print(classification_report(Yvalid,predictions))\n",
    "print(confusion_matrix(Yvalid, predictions))\n",
    "print(roc_auc_score(Yvalid, model.predict(Xvalid)))"
   ]
  },
  {
   "cell_type": "code",
   "execution_count": null,
   "metadata": {},
   "outputs": [],
   "source": []
  },
  {
   "cell_type": "code",
   "execution_count": null,
   "metadata": {},
   "outputs": [],
   "source": []
  }
 ],
 "metadata": {
  "kernelspec": {
   "display_name": "Python 3",
   "language": "python",
   "name": "python3"
  },
  "language_info": {
   "codemirror_mode": {
    "name": "ipython",
    "version": 3
   },
   "file_extension": ".py",
   "mimetype": "text/x-python",
   "name": "python",
   "nbconvert_exporter": "python",
   "pygments_lexer": "ipython3",
   "version": "3.8.3"
  }
 },
 "nbformat": 4,
 "nbformat_minor": 4
}
